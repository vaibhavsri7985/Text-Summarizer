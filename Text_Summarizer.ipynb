{
  "nbformat": 4,
  "nbformat_minor": 0,
  "metadata": {
    "colab": {
      "provenance": []
    },
    "kernelspec": {
      "name": "python3",
      "display_name": "Python 3"
    },
    "language_info": {
      "name": "python"
    }
  },
  "cells": [
    {
      "cell_type": "markdown",
      "source": [
        "### Installing necessary packages\n"
      ],
      "metadata": {
        "id": "CdbfEn6H6NSa"
      }
    },
    {
      "cell_type": "code",
      "execution_count": null,
      "metadata": {
        "colab": {
          "base_uri": "https://localhost:8080/"
        },
        "id": "dRf0SwXz5XZd",
        "outputId": "efd04344-f39c-45c8-f0e9-5ea74c38a70a"
      },
      "outputs": [
        {
          "output_type": "stream",
          "name": "stdout",
          "text": [
            "Requirement already satisfied: langchain in /usr/local/lib/python3.12/dist-packages (0.3.27)\n",
            "Collecting langchain-community\n",
            "  Downloading langchain_community-0.3.30-py3-none-any.whl.metadata (3.0 kB)\n",
            "Collecting langchain-huggingface\n",
            "  Downloading langchain_huggingface-0.3.1-py3-none-any.whl.metadata (996 bytes)\n",
            "Collecting unstructured\n",
            "  Downloading unstructured-0.18.15-py3-none-any.whl.metadata (24 kB)\n",
            "Requirement already satisfied: langchain-core<1.0.0,>=0.3.72 in /usr/local/lib/python3.12/dist-packages (from langchain) (0.3.76)\n",
            "Requirement already satisfied: langchain-text-splitters<1.0.0,>=0.3.9 in /usr/local/lib/python3.12/dist-packages (from langchain) (0.3.11)\n",
            "Requirement already satisfied: langsmith>=0.1.17 in /usr/local/lib/python3.12/dist-packages (from langchain) (0.4.28)\n",
            "Requirement already satisfied: pydantic<3.0.0,>=2.7.4 in /usr/local/lib/python3.12/dist-packages (from langchain) (2.11.9)\n",
            "Requirement already satisfied: SQLAlchemy<3,>=1.4 in /usr/local/lib/python3.12/dist-packages (from langchain) (2.0.43)\n",
            "Requirement already satisfied: requests<3,>=2 in /usr/local/lib/python3.12/dist-packages (from langchain) (2.32.4)\n",
            "Requirement already satisfied: PyYAML>=5.3 in /usr/local/lib/python3.12/dist-packages (from langchain) (6.0.2)\n",
            "Collecting requests<3,>=2 (from langchain)\n",
            "  Downloading requests-2.32.5-py3-none-any.whl.metadata (4.9 kB)\n",
            "Requirement already satisfied: aiohttp<4.0.0,>=3.8.3 in /usr/local/lib/python3.12/dist-packages (from langchain-community) (3.12.15)\n",
            "Requirement already satisfied: tenacity!=8.4.0,<10.0.0,>=8.1.0 in /usr/local/lib/python3.12/dist-packages (from langchain-community) (8.5.0)\n",
            "Collecting dataclasses-json<0.7.0,>=0.6.7 (from langchain-community)\n",
            "  Downloading dataclasses_json-0.6.7-py3-none-any.whl.metadata (25 kB)\n",
            "Requirement already satisfied: pydantic-settings<3.0.0,>=2.10.1 in /usr/local/lib/python3.12/dist-packages (from langchain-community) (2.10.1)\n",
            "Requirement already satisfied: httpx-sse<1.0.0,>=0.4.0 in /usr/local/lib/python3.12/dist-packages (from langchain-community) (0.4.1)\n",
            "Requirement already satisfied: numpy>=1.26.2 in /usr/local/lib/python3.12/dist-packages (from langchain-community) (2.0.2)\n",
            "Requirement already satisfied: tokenizers>=0.19.1 in /usr/local/lib/python3.12/dist-packages (from langchain-huggingface) (0.22.0)\n",
            "Requirement already satisfied: huggingface-hub>=0.33.4 in /usr/local/lib/python3.12/dist-packages (from langchain-huggingface) (0.35.0)\n",
            "Requirement already satisfied: charset-normalizer in /usr/local/lib/python3.12/dist-packages (from unstructured) (3.4.3)\n",
            "Collecting filetype (from unstructured)\n",
            "  Downloading filetype-1.2.0-py2.py3-none-any.whl.metadata (6.5 kB)\n",
            "Collecting python-magic (from unstructured)\n",
            "  Downloading python_magic-0.4.27-py2.py3-none-any.whl.metadata (5.8 kB)\n",
            "Requirement already satisfied: lxml in /usr/local/lib/python3.12/dist-packages (from unstructured) (5.4.0)\n",
            "Requirement already satisfied: nltk in /usr/local/lib/python3.12/dist-packages (from unstructured) (3.9.1)\n",
            "Requirement already satisfied: beautifulsoup4 in /usr/local/lib/python3.12/dist-packages (from unstructured) (4.13.5)\n",
            "Collecting emoji (from unstructured)\n",
            "  Downloading emoji-2.15.0-py3-none-any.whl.metadata (5.7 kB)\n",
            "Collecting python-iso639 (from unstructured)\n",
            "  Downloading python_iso639-2025.2.18-py3-none-any.whl.metadata (14 kB)\n",
            "Collecting langdetect (from unstructured)\n",
            "  Downloading langdetect-1.0.9.tar.gz (981 kB)\n",
            "\u001b[2K     \u001b[90m━━━━━━━━━━━━━━━━━━━━━━━━━━━━━━━━━━━━━━\u001b[0m \u001b[32m981.5/981.5 kB\u001b[0m \u001b[31m17.9 MB/s\u001b[0m eta \u001b[36m0:00:00\u001b[0m\n",
            "\u001b[?25h  Preparing metadata (setup.py) ... \u001b[?25l\u001b[?25hdone\n",
            "Collecting rapidfuzz (from unstructured)\n",
            "  Downloading rapidfuzz-3.14.1-cp312-cp312-manylinux_2_27_x86_64.manylinux_2_28_x86_64.whl.metadata (12 kB)\n",
            "Collecting backoff (from unstructured)\n",
            "  Downloading backoff-2.2.1-py3-none-any.whl.metadata (14 kB)\n",
            "Requirement already satisfied: typing-extensions in /usr/local/lib/python3.12/dist-packages (from unstructured) (4.15.0)\n",
            "Collecting unstructured-client (from unstructured)\n",
            "  Downloading unstructured_client-0.42.3-py3-none-any.whl.metadata (23 kB)\n",
            "Requirement already satisfied: wrapt in /usr/local/lib/python3.12/dist-packages (from unstructured) (1.17.3)\n",
            "Requirement already satisfied: tqdm in /usr/local/lib/python3.12/dist-packages (from unstructured) (4.67.1)\n",
            "Requirement already satisfied: psutil in /usr/local/lib/python3.12/dist-packages (from unstructured) (5.9.5)\n",
            "Collecting python-oxmsg (from unstructured)\n",
            "  Downloading python_oxmsg-0.0.2-py3-none-any.whl.metadata (5.0 kB)\n",
            "Requirement already satisfied: html5lib in /usr/local/lib/python3.12/dist-packages (from unstructured) (1.1)\n",
            "Requirement already satisfied: aiohappyeyeballs>=2.5.0 in /usr/local/lib/python3.12/dist-packages (from aiohttp<4.0.0,>=3.8.3->langchain-community) (2.6.1)\n",
            "Requirement already satisfied: aiosignal>=1.4.0 in /usr/local/lib/python3.12/dist-packages (from aiohttp<4.0.0,>=3.8.3->langchain-community) (1.4.0)\n",
            "Requirement already satisfied: attrs>=17.3.0 in /usr/local/lib/python3.12/dist-packages (from aiohttp<4.0.0,>=3.8.3->langchain-community) (25.3.0)\n",
            "Requirement already satisfied: frozenlist>=1.1.1 in /usr/local/lib/python3.12/dist-packages (from aiohttp<4.0.0,>=3.8.3->langchain-community) (1.7.0)\n",
            "Requirement already satisfied: multidict<7.0,>=4.5 in /usr/local/lib/python3.12/dist-packages (from aiohttp<4.0.0,>=3.8.3->langchain-community) (6.6.4)\n",
            "Requirement already satisfied: propcache>=0.2.0 in /usr/local/lib/python3.12/dist-packages (from aiohttp<4.0.0,>=3.8.3->langchain-community) (0.3.2)\n",
            "Requirement already satisfied: yarl<2.0,>=1.17.0 in /usr/local/lib/python3.12/dist-packages (from aiohttp<4.0.0,>=3.8.3->langchain-community) (1.20.1)\n",
            "Collecting marshmallow<4.0.0,>=3.18.0 (from dataclasses-json<0.7.0,>=0.6.7->langchain-community)\n",
            "  Downloading marshmallow-3.26.1-py3-none-any.whl.metadata (7.3 kB)\n",
            "Collecting typing-inspect<1,>=0.4.0 (from dataclasses-json<0.7.0,>=0.6.7->langchain-community)\n",
            "  Downloading typing_inspect-0.9.0-py3-none-any.whl.metadata (1.5 kB)\n",
            "Requirement already satisfied: filelock in /usr/local/lib/python3.12/dist-packages (from huggingface-hub>=0.33.4->langchain-huggingface) (3.19.1)\n",
            "Requirement already satisfied: fsspec>=2023.5.0 in /usr/local/lib/python3.12/dist-packages (from huggingface-hub>=0.33.4->langchain-huggingface) (2025.3.0)\n",
            "Requirement already satisfied: packaging>=20.9 in /usr/local/lib/python3.12/dist-packages (from huggingface-hub>=0.33.4->langchain-huggingface) (25.0)\n",
            "Requirement already satisfied: hf-xet<2.0.0,>=1.1.3 in /usr/local/lib/python3.12/dist-packages (from huggingface-hub>=0.33.4->langchain-huggingface) (1.1.10)\n",
            "Requirement already satisfied: jsonpatch<2.0,>=1.33 in /usr/local/lib/python3.12/dist-packages (from langchain-core<1.0.0,>=0.3.72->langchain) (1.33)\n",
            "Requirement already satisfied: httpx<1,>=0.23.0 in /usr/local/lib/python3.12/dist-packages (from langsmith>=0.1.17->langchain) (0.28.1)\n",
            "Requirement already satisfied: orjson>=3.9.14 in /usr/local/lib/python3.12/dist-packages (from langsmith>=0.1.17->langchain) (3.11.3)\n",
            "Requirement already satisfied: requests-toolbelt>=1.0.0 in /usr/local/lib/python3.12/dist-packages (from langsmith>=0.1.17->langchain) (1.0.0)\n",
            "Requirement already satisfied: zstandard>=0.23.0 in /usr/local/lib/python3.12/dist-packages (from langsmith>=0.1.17->langchain) (0.25.0)\n",
            "Requirement already satisfied: annotated-types>=0.6.0 in /usr/local/lib/python3.12/dist-packages (from pydantic<3.0.0,>=2.7.4->langchain) (0.7.0)\n",
            "Requirement already satisfied: pydantic-core==2.33.2 in /usr/local/lib/python3.12/dist-packages (from pydantic<3.0.0,>=2.7.4->langchain) (2.33.2)\n",
            "Requirement already satisfied: typing-inspection>=0.4.0 in /usr/local/lib/python3.12/dist-packages (from pydantic<3.0.0,>=2.7.4->langchain) (0.4.1)\n",
            "Requirement already satisfied: python-dotenv>=0.21.0 in /usr/local/lib/python3.12/dist-packages (from pydantic-settings<3.0.0,>=2.10.1->langchain-community) (1.1.1)\n",
            "Requirement already satisfied: idna<4,>=2.5 in /usr/local/lib/python3.12/dist-packages (from requests<3,>=2->langchain) (3.10)\n",
            "Requirement already satisfied: urllib3<3,>=1.21.1 in /usr/local/lib/python3.12/dist-packages (from requests<3,>=2->langchain) (2.5.0)\n",
            "Requirement already satisfied: certifi>=2017.4.17 in /usr/local/lib/python3.12/dist-packages (from requests<3,>=2->langchain) (2025.8.3)\n",
            "Requirement already satisfied: greenlet>=1 in /usr/local/lib/python3.12/dist-packages (from SQLAlchemy<3,>=1.4->langchain) (3.2.4)\n",
            "Requirement already satisfied: soupsieve>1.2 in /usr/local/lib/python3.12/dist-packages (from beautifulsoup4->unstructured) (2.8)\n",
            "Requirement already satisfied: six>=1.9 in /usr/local/lib/python3.12/dist-packages (from html5lib->unstructured) (1.17.0)\n",
            "Requirement already satisfied: webencodings in /usr/local/lib/python3.12/dist-packages (from html5lib->unstructured) (0.5.1)\n",
            "Requirement already satisfied: click in /usr/local/lib/python3.12/dist-packages (from nltk->unstructured) (8.2.1)\n",
            "Requirement already satisfied: joblib in /usr/local/lib/python3.12/dist-packages (from nltk->unstructured) (1.5.2)\n",
            "Requirement already satisfied: regex>=2021.8.3 in /usr/local/lib/python3.12/dist-packages (from nltk->unstructured) (2024.11.6)\n",
            "Collecting olefile (from python-oxmsg->unstructured)\n",
            "  Downloading olefile-0.47-py2.py3-none-any.whl.metadata (9.7 kB)\n",
            "Requirement already satisfied: aiofiles>=24.1.0 in /usr/local/lib/python3.12/dist-packages (from unstructured-client->unstructured) (24.1.0)\n",
            "Requirement already satisfied: cryptography>=3.1 in /usr/local/lib/python3.12/dist-packages (from unstructured-client->unstructured) (43.0.3)\n",
            "Requirement already satisfied: httpcore>=1.0.9 in /usr/local/lib/python3.12/dist-packages (from unstructured-client->unstructured) (1.0.9)\n",
            "Collecting pypdf>=4.0 (from unstructured-client->unstructured)\n",
            "  Downloading pypdf-6.1.1-py3-none-any.whl.metadata (7.1 kB)\n",
            "Requirement already satisfied: cffi>=1.12 in /usr/local/lib/python3.12/dist-packages (from cryptography>=3.1->unstructured-client->unstructured) (2.0.0)\n",
            "Requirement already satisfied: h11>=0.16 in /usr/local/lib/python3.12/dist-packages (from httpcore>=1.0.9->unstructured-client->unstructured) (0.16.0)\n",
            "Requirement already satisfied: anyio in /usr/local/lib/python3.12/dist-packages (from httpx<1,>=0.23.0->langsmith>=0.1.17->langchain) (4.10.0)\n",
            "Requirement already satisfied: jsonpointer>=1.9 in /usr/local/lib/python3.12/dist-packages (from jsonpatch<2.0,>=1.33->langchain-core<1.0.0,>=0.3.72->langchain) (3.0.0)\n",
            "Collecting mypy-extensions>=0.3.0 (from typing-inspect<1,>=0.4.0->dataclasses-json<0.7.0,>=0.6.7->langchain-community)\n",
            "  Downloading mypy_extensions-1.1.0-py3-none-any.whl.metadata (1.1 kB)\n",
            "Requirement already satisfied: pycparser in /usr/local/lib/python3.12/dist-packages (from cffi>=1.12->cryptography>=3.1->unstructured-client->unstructured) (2.23)\n",
            "Requirement already satisfied: sniffio>=1.1 in /usr/local/lib/python3.12/dist-packages (from anyio->httpx<1,>=0.23.0->langsmith>=0.1.17->langchain) (1.3.1)\n",
            "Downloading langchain_community-0.3.30-py3-none-any.whl (2.5 MB)\n",
            "\u001b[2K   \u001b[90m━━━━━━━━━━━━━━━━━━━━━━━━━━━━━━━━━━━━━━━━\u001b[0m \u001b[32m2.5/2.5 MB\u001b[0m \u001b[31m64.9 MB/s\u001b[0m eta \u001b[36m0:00:00\u001b[0m\n",
            "\u001b[?25hDownloading langchain_huggingface-0.3.1-py3-none-any.whl (27 kB)\n",
            "Downloading unstructured-0.18.15-py3-none-any.whl (1.8 MB)\n",
            "\u001b[2K   \u001b[90m━━━━━━━━━━━━━━━━━━━━━━━━━━━━━━━━━━━━━━━━\u001b[0m \u001b[32m1.8/1.8 MB\u001b[0m \u001b[31m64.5 MB/s\u001b[0m eta \u001b[36m0:00:00\u001b[0m\n",
            "\u001b[?25hDownloading dataclasses_json-0.6.7-py3-none-any.whl (28 kB)\n",
            "Downloading requests-2.32.5-py3-none-any.whl (64 kB)\n",
            "\u001b[2K   \u001b[90m━━━━━━━━━━━━━━━━━━━━━━━━━━━━━━━━━━━━━━━━\u001b[0m \u001b[32m64.7/64.7 kB\u001b[0m \u001b[31m4.6 MB/s\u001b[0m eta \u001b[36m0:00:00\u001b[0m\n",
            "\u001b[?25hDownloading backoff-2.2.1-py3-none-any.whl (15 kB)\n",
            "Downloading emoji-2.15.0-py3-none-any.whl (608 kB)\n",
            "\u001b[2K   \u001b[90m━━━━━━━━━━━━━━━━━━━━━━━━━━━━━━━━━━━━━━━━\u001b[0m \u001b[32m608.4/608.4 kB\u001b[0m \u001b[31m30.5 MB/s\u001b[0m eta \u001b[36m0:00:00\u001b[0m\n",
            "\u001b[?25hDownloading filetype-1.2.0-py2.py3-none-any.whl (19 kB)\n",
            "Downloading python_iso639-2025.2.18-py3-none-any.whl (167 kB)\n",
            "\u001b[2K   \u001b[90m━━━━━━━━━━━━━━━━━━━━━━━━━━━━━━━━━━━━━━━━\u001b[0m \u001b[32m167.6/167.6 kB\u001b[0m \u001b[31m11.9 MB/s\u001b[0m eta \u001b[36m0:00:00\u001b[0m\n",
            "\u001b[?25hDownloading python_magic-0.4.27-py2.py3-none-any.whl (13 kB)\n",
            "Downloading python_oxmsg-0.0.2-py3-none-any.whl (31 kB)\n",
            "Downloading rapidfuzz-3.14.1-cp312-cp312-manylinux_2_27_x86_64.manylinux_2_28_x86_64.whl (3.2 MB)\n",
            "\u001b[2K   \u001b[90m━━━━━━━━━━━━━━━━━━━━━━━━━━━━━━━━━━━━━━━━\u001b[0m \u001b[32m3.2/3.2 MB\u001b[0m \u001b[31m97.0 MB/s\u001b[0m eta \u001b[36m0:00:00\u001b[0m\n",
            "\u001b[?25hDownloading unstructured_client-0.42.3-py3-none-any.whl (207 kB)\n",
            "\u001b[2K   \u001b[90m━━━━━━━━━━━━━━━━━━━━━━━━━━━━━━━━━━━━━━━━\u001b[0m \u001b[32m207.8/207.8 kB\u001b[0m \u001b[31m14.6 MB/s\u001b[0m eta \u001b[36m0:00:00\u001b[0m\n",
            "\u001b[?25hDownloading marshmallow-3.26.1-py3-none-any.whl (50 kB)\n",
            "\u001b[2K   \u001b[90m━━━━━━━━━━━━━━━━━━━━━━━━━━━━━━━━━━━━━━━━\u001b[0m \u001b[32m50.9/50.9 kB\u001b[0m \u001b[31m3.4 MB/s\u001b[0m eta \u001b[36m0:00:00\u001b[0m\n",
            "\u001b[?25hDownloading pypdf-6.1.1-py3-none-any.whl (323 kB)\n",
            "\u001b[2K   \u001b[90m━━━━━━━━━━━━━━━━━━━━━━━━━━━━━━━━━━━━━━━━\u001b[0m \u001b[32m323.5/323.5 kB\u001b[0m \u001b[31m22.1 MB/s\u001b[0m eta \u001b[36m0:00:00\u001b[0m\n",
            "\u001b[?25hDownloading typing_inspect-0.9.0-py3-none-any.whl (8.8 kB)\n",
            "Downloading olefile-0.47-py2.py3-none-any.whl (114 kB)\n",
            "\u001b[2K   \u001b[90m━━━━━━━━━━━━━━━━━━━━━━━━━━━━━━━━━━━━━━━━\u001b[0m \u001b[32m114.6/114.6 kB\u001b[0m \u001b[31m8.3 MB/s\u001b[0m eta \u001b[36m0:00:00\u001b[0m\n",
            "\u001b[?25hDownloading mypy_extensions-1.1.0-py3-none-any.whl (5.0 kB)\n",
            "Building wheels for collected packages: langdetect\n",
            "  Building wheel for langdetect (setup.py) ... \u001b[?25l\u001b[?25hdone\n",
            "  Created wheel for langdetect: filename=langdetect-1.0.9-py3-none-any.whl size=993223 sha256=2d399dd7a35ca1b3277cdfd1a419e26130d69d35790faeedadb82b094e802179\n",
            "  Stored in directory: /root/.cache/pip/wheels/c1/67/88/e844b5b022812e15a52e4eaa38a1e709e99f06f6639d7e3ba7\n",
            "Successfully built langdetect\n",
            "Installing collected packages: filetype, requests, rapidfuzz, python-magic, python-iso639, pypdf, olefile, mypy-extensions, marshmallow, langdetect, emoji, backoff, typing-inspect, python-oxmsg, unstructured-client, dataclasses-json, unstructured, langchain-huggingface, langchain-community\n",
            "  Attempting uninstall: requests\n",
            "    Found existing installation: requests 2.32.4\n",
            "    Uninstalling requests-2.32.4:\n",
            "      Successfully uninstalled requests-2.32.4\n",
            "\u001b[31mERROR: pip's dependency resolver does not currently take into account all the packages that are installed. This behaviour is the source of the following dependency conflicts.\n",
            "google-colab 1.0.0 requires requests==2.32.4, but you have requests 2.32.5 which is incompatible.\u001b[0m\u001b[31m\n",
            "\u001b[0mSuccessfully installed backoff-2.2.1 dataclasses-json-0.6.7 emoji-2.15.0 filetype-1.2.0 langchain-community-0.3.30 langchain-huggingface-0.3.1 langdetect-1.0.9 marshmallow-3.26.1 mypy-extensions-1.1.0 olefile-0.47 pypdf-6.1.1 python-iso639-2025.2.18 python-magic-0.4.27 python-oxmsg-0.0.2 rapidfuzz-3.14.1 requests-2.32.5 typing-inspect-0.9.0 unstructured-0.18.15 unstructured-client-0.42.3\n"
          ]
        }
      ],
      "source": [
        "!pip install langchain langchain-community langchain-huggingface unstructured\n"
      ]
    },
    {
      "cell_type": "code",
      "source": [
        "# importing the necessary libraries here\n",
        "import os\n",
        "from langchain_huggingface import HuggingFaceEndpoint, ChatHuggingFace\n",
        "from langchain_core.prompts import PromptTemplate\n",
        "from langchain.chains.summarize import load_summarize_chain\n",
        "from langchain.text_splitter import RecursiveCharacterTextSplitter\n",
        "from langchain_community.document_loaders import UnstructuredURLLoader\n",
        "from langchain.output_parsers import StructuredOutputParser, ResponseSchema"
      ],
      "metadata": {
        "id": "21UBZp3E6H1L"
      },
      "execution_count": 3,
      "outputs": []
    },
    {
      "cell_type": "code",
      "source": [
        "# Creating a schema for StructuredOutputParser to summarize news articles or blog posts into exactly three sentences.\"\n",
        "schema=[\n",
        "    ResponseSchema(name=\"summary 1\",description=\"summary 1 about the topic\"),\n",
        "    ResponseSchema(name=\"summary 2\",description=\"summary 2 about the topic\"),\n",
        "    ResponseSchema(name=\"summary 3\",description=\"summary 3 about the topic\")\n",
        "\n",
        "]"
      ],
      "metadata": {
        "id": "H-tmOR0SMZWB"
      },
      "execution_count": 4,
      "outputs": []
    },
    {
      "cell_type": "code",
      "source": [
        "# parser for only getting necessary output....\n",
        "parser=StructuredOutputParser.from_response_schemas(schema)"
      ],
      "metadata": {
        "id": "bYq8GKyQMo1q"
      },
      "execution_count": 5,
      "outputs": []
    },
    {
      "cell_type": "code",
      "source": [
        "# pass the api key here\n",
        "os.environ['HUGGINGFACEHUB_API_TOKEN']=\"yor_api_key\""
      ],
      "metadata": {
        "id": "igTkoog37Dwg"
      },
      "execution_count": 6,
      "outputs": []
    },
    {
      "cell_type": "code",
      "source": [
        "# set the hugging face model\n",
        "llm=HuggingFaceEndpoint(repo_id=\"meta-llama/Llama-3.1-8B-Instruct\",\n",
        "                        task=\"text-generation\")\n",
        "model=ChatHuggingFace(llm=llm)"
      ],
      "metadata": {
        "id": "sjMB52Gy7O2J"
      },
      "execution_count": 7,
      "outputs": []
    },
    {
      "cell_type": "code",
      "source": [
        "# Load the documents – We will scrape data from Moneycontrol.com. This article is related to sports news.\n",
        "loader=UnstructuredURLLoader(urls=[\"https://www.moneycontrol.com/sports/cricket/ind-vs-pak-live-score-today-india-vs-pakistan-asia-cup-2025-final-live-cricket-scorecard-dubai-liveblog-13586345.html\"])\n",
        "docs=loader.load() # load the data ..."
      ],
      "metadata": {
        "id": "2c5nI9Op8Hw-"
      },
      "execution_count": 8,
      "outputs": []
    },
    {
      "cell_type": "code",
      "source": [
        "docs"
      ],
      "metadata": {
        "colab": {
          "base_uri": "https://localhost:8080/"
        },
        "id": "7GjRjAZO9rql",
        "outputId": "d7d1e8b7-f3ed-4c07-f5f1-304a129a0dcd"
      },
      "execution_count": 9,
      "outputs": [
        {
          "output_type": "execute_result",
          "data": {
            "text/plain": [
              "[Document(metadata={'source': 'https://www.moneycontrol.com/sports/cricket/ind-vs-pak-live-score-today-india-vs-pakistan-asia-cup-2025-final-live-cricket-scorecard-dubai-liveblog-13586345.html'}, page_content=\"HomeSportscricketHighlights | India vs Pakistan, Asia Cup final: India edge Pakistan by 5 wickets in nail-biting thriller\\n\\nLive\\n\\nAuto Refresh\\n\\nHighlights | India vs Pakistan, Asia Cup final: India edge Pakistan by 5 wickets in nail-biting thriller\\n\\nMoneycontrol News\\n\\n330\\n\\nSeptember 29, 2025· 00:18 IST\\n\\n\\n\\n\\n\\n\\n\\nHighlights | India vs Pakistan, Asia Cup final: India skipper Suryakumar Yadav won the toss and chose to bowl first in the Asia Cup 2025 final against Pakistan at the Dubai International Cricket Stadium on Sunday (September 28). Pakistan in reply posted 146 runs which at one point looked an easy target for the Men in Blue to chase but the Pakistan bowlers handed the defending champions early blows in the powerplay with wickets of Shubman Gill, Abhishek Sharma and captain Suryakumar Yadav.\\n\\nRead More▼\\n\\nHighlights - India vs Pakistan, Asia Cup 2025 final: Highlights from Dubai. (Photo: BCCI)\\n\\n330\\n\\nSeptember 29, 2025· 00:05 IST\\n\\n4️⃣FOUR!Over 19.4India 150/5\\n\\nIndia vs Pakistan Live Score | Haris Rauf to Rinku Singh : FOUR! RINKU SINGH FINISHES OFF IN STYLE! Hard-length delivery, around off. Rinku Singh keeps his calm, stays in the crease, swings with a flat bat, and smashes it over mid on for a boundary. INDIA WIN THE ASIA CUP 2025! The crowd is up on its feet as India lift the trophy for the ninth time!\\n\\n330\\n\\nSeptember 29, 2025· 00:04 IST\\n\\n🏏1 RunOver 19.3India 146/5\\n\\nIndia vs Pakistan Live Score | Haris Rauf to Tilak Varma : SCORES ARE LEVEL NOW! Back of a length, around off. Tilak Varma waits back and punches it to the left of mid off and steals a quick single.\\n\\nAdvertisement\\n\\nRemove Ad\\n\\n330\\n\\nSeptember 29, 2025· 00:03 IST\\n\\n6️⃣SIX!Over 19.2India 145/5\\n\\nIndia vs Pakistan Live Score | Haris Rauf to Tilak Varma : SIX! WHAT A BRILLIANT STRIKE! TILAK HAS PULLED OFF AN EXTRAORDINARY STRIKE! Good length, angling across the off stump line. Tilak Varma fetches the ball and smokes it powerfully over deep mid-wicket for a cracking six!\\n\\n330\\n\\nSeptember 29, 2025· 00:02 IST\\n\\n🏏2 RunsOver 19.1India 139/5\\n\\nIndia vs Pakistan Live Score | Haris Rauf to Tilak Varma : Two off the first ball! Fired in with all might, full and on off. Tilak Varma plants his back knee on the ground and tries to slog it across the line, but gets it off the toe end. The ball flies over the bowler's head and rolls down to the long on region for a couple of runs.\\n\\n330\\n\\nSeptember 29, 2025· 00:02 IST\\n\\nℹ️MATCH UPDATE\\n\\nIndia vs Pakistan Live Score | A good job from Faheem Ashraf to pull through cramps and deliver for his side. It is anybody's game with India needing 10 runs from the final over. Pakistan have been penalised for slow over rate and therefore, they will be allowed only 4 fielders outside the 30-yard circle instead of 5. Haris Rauf to bowl the final over. Rinku Singh joins Tilak Varma out in the middle but it will be Tilak on strike at the start of the over.\\n\\nAdvertisement\\n\\nRemove Ad\\n\\n330\\n\\nSeptember 29, 2025· 00:00 IST\\n\\n🔴WICKET!Over 18.6India 137/5\\n\\nIndia vs Pakistan Live Score | Faheem Ashraf to Shivam Dube : OUT! STRAIGHT UP AND GONE! What a crucial delivery this has been for Pakistan! Faheem Ashraf gets his third wicket and how brilliant has he been in the night of the final? At a gentle pace, outside off, on a fuller length. Shivam Dube does not account for the pace off and tries to sail it over long off, but gets no timing whatsoever. The ball goes skyward off the toe end, and descends towards long off. Shaheen Afridi positions himself and judges the ball's trajectory to perfection. Takes a fine catch under pressure at the edge of the ropes.\\n\\nShivam Dube 33(22)Tilak Varma 60(50)\\n\\nFaheem Ashraf 3/29(4)\\n\\n111400(W)\\n\\nCRR: 7.21 RRR: 10\\n\\n330\\n\\nSeptember 28, 2025· 23:58 IST\\n\\n⚪Dot BallOver 18.5India 137/4\\n\\nIndia vs Pakistan Live Score | Faheem Ashraf to Shivam Dube : BIG SWING AND A MISS! Nips away from a fuller length, outside off. Shivam Dube swings with everything left in his tank, but gets no bat on ball!\\n\\n330\\n\\nSeptember 28, 2025· 23:58 IST\\n\\n4️⃣FOUR!Over 18.4India 137/4\\n\\nIndia vs Pakistan Live Score | Faheem Ashraf to Shivam Dube : FOUR! THAT HAS BEEN POWERED MERCILESSLY! Ashraf tries to keep it outside off, and pulls the length back. Shivam Dube moves across the stumps, stands tall and pulls it between deep mid-wicket and long on for a cracking boundary!\\n\\n330\\n\\nSeptember 28, 2025· 23:57 IST\\n\\n🏏1 RunOver 18.3India 133/4\\n\\nIndia vs Pakistan Live Score | Faheem Ashraf to Tilak Varma : Three singles off the first three balls! Another one hurled outside off, on a length. Tilak waits back and heaves it off the inner half of the bat to long on for a single.\\n\\n330\\n\\nSeptember 28, 2025· 23:56 IST\\n\\n🏏1 RunOver 18.2India 132/4\\n\\nIndia vs Pakistan Live Score | Faheem Ashraf to Shivam Dube : Banged halfway, angling outside off. Shivam covers the stumps, stands tall and flat-bats it down to long on for a single.\\n\\nAdvertisement\\n\\nRemove Ad\\n\\n330\\n\\nSeptember 28, 2025· 23:56 IST\\n\\n🏏1 RunOver 18.1India 131/4\\n\\nIndia vs Pakistan Live Score | Faheem Ashraf to Tilak Varma : Keeps it away from the arc, on a length, outside off. Tilak Varma shuffles across and gets down on his knee. Sweeps it using his wrists to the left of square leg. Fakhar Zaman dives in that direction and makes a half-stop. Just a single. 16 needed off 11 now!\\n\\n330\\n\\nSeptember 28, 2025· 23:56 IST\\n\\nℹ️MATCH UPDATE\\n\\nIndia vs Pakistan Live Score | Oopsie! Faheem Ashraf pulls out before delivering for the second time. Looks to be cramp. The physio is out to attend to Faheem. The Indian batters help themselves to some fluids in the meantime. Ashraf is back on his feet, but can he push through? This break has been over 5 minutes and the two Indians will have to reset. All set to resume then.\\n\\n330\\n\\nSeptember 28, 2025· 23:50 IST\\n\\nℹ️MATCH UPDATE\\n\\nIndia vs Pakistan Live Score | A six off the final ball spoils the over from Pakistan's perspective. Shaheen Afridi has bowled out, while Faheem Ashraf and Saim Ayub have one over each left. Salman Agha turns to the seam bowling option of Faheem. India need 17 runs off the last 2 overs.\\n\\n330\\n\\nSeptember 28, 2025· 23:49 IST\\n\\n6️⃣SIX!Over 17.6India 130/4\\n\\nIndia vs Pakistan Live Score | Haris Rauf to Shivam Dube : SIX! BELTED! Pretty loose from Rauf. Goes for a yorker but slips in a low full toss, just outside off. Shivam Dube swings with all his might, gets his bat under the ball and muscles it up and over deep mid-wicket for a mammoth six. A very valuable strike from Dube and that brings up the 50-run partnership between Shivam Dube and Tilak Varma! Off just 36 deliveries! Haris Rauf goes for 13 in this over and admonishes himself in frustration. He has been pretty expensive in this finale. His figures read 3-0-37-0.\\n\\nShivam Dube 28(18)Tilak Varma 58(48)\\n\\nHaris Rauf 0/37(3)\\n\\n11(1WD)11216\\n\\nCRR: 7.22 RRR: 8.50\\n\\n330\\n\\nSeptember 28, 2025· 23:47 IST\\n\\n🏏1 RunOver 17.5India 124/4\\n\\nIndia vs Pakistan Live Score | Haris Rauf to Tilak Varma : Excellent delivery! An attempted yorker, wide outside off. Tilak Varma covers the off pole, and digs it out to widish mid-wicket for only a single. Rauf has bowled according to his plans so far and will look to finish strongly.\\n\\n330\\n\\nSeptember 28, 2025· 23:46 IST\\n\\n🏏2 RunsOver 17.4India 123/4\\n\\nIndia vs Pakistan Live Score | Haris Rauf to Tilak Varma : Spots Tilak shuffling across off, Rauf spears a full toss outside off. Tilak Varma goes with his shot, bends his knee and sweeps it to the right of square leg for a couple of runs.\\n\\n330\\n\\nSeptember 28, 2025· 23:45 IST\\n\\n🏏1 RunOver 17.3India 121/4\\n\\nIndia vs Pakistan Live Score | Haris Rauf to Shivam Dube : Too full, but wide outside off. Dube carves it powerfully, but only for a single to deep extra cover. So far, so good from Rauf. India need 26 from 15 balls.\\n\\n330\\n\\nSeptember 28, 2025· 23:44 IST\\n\\n🏏1 RunOver 17.2India 120/4\\n\\nIndia vs Pakistan Live Score | Haris Rauf to Tilak Varma : Full and with pace, outside off. Varma lofts it over cover-point for a single.\\n\\n330\\n\\nSeptember 28, 2025· 23:44 IST\\n\\n📢Over 17.2India 119/4\\n\\nIndia vs Pakistan Live Score | Haris Rauf to Tilak Varma : WIDE! Slips it miles outside the tramline. Tilak shapes to play the sweep but leaves and a Wide is called. Varma asks for a No Ball. But the third umpire deems the ball has pitched outside the pitch after going past the stumps. So, it will just be a wide.\\n\\n330\\n\\nSeptember 28, 2025· 23:42 IST\\n\\n🏏1 RunOver 17.1India 118/4\\n\\nIndia vs Pakistan Live Score | Haris Rauf to Shivam Dube : Slower dipping full toss, outside off. Shivam Dube works it towards extra cover for a quick single.\\n\\n330\\n\\nSeptember 28, 2025· 23:42 IST\\n\\nℹ️MATCH UPDATE\\n\\nIndia vs Pakistan Live Score | Haris Rauf has been brought back. A change of ends for the right-arm quick, who will want to redeem himself after going for 17 runs in his previous over. India need 30 runs from 18 balls.\\n\\n330\\n\\nSeptember 28, 2025· 23:40 IST\\n\\n🏏1 RunOver 16.6India 117/4\\n\\nIndia vs Pakistan Live Score | Shaheen Afridi to Shivam Dube : A tailing full toss from Afridi, on top of off. Shivam Dube plays from the crease and heaves it between mid-wicket and square leg for a single. Brilliant over from Shaheen under tough circumstances. Goes for just 6 and finishes his spell with economical figures of 4-0-20-1.\\n\\nShivam Dube 20(15)Tilak Varma 54(45)\\n\\nShaheen Afridi 1/20(4)\\n\\n110211\\n\\nCRR: 6.88 RRR: 10\\n\\n330\\n\\nSeptember 28, 2025· 23:39 IST\\n\\n🏏1 RunOver 16.5India 116/4\\n\\nIndia vs Pakistan Live Score | Shaheen Afridi to Tilak Varma : Full, on off. Tilak carves it wide of mid off for a single.\\n\\n330\\n\\nSeptember 28, 2025· 23:39 IST\\n\\n🏏2 RunsOver 16.4India 115/4\\n\\nIndia vs Pakistan Live Score | Shaheen Afridi to Tilak Varma : Slower one, full and on middle and leg. Tilak Varma swings with all his might, but only manages to get an inside edge. The ball rolls past the leg stump and goes towards Abrar Ahmed at short fine leg. He dives to his left but makes a half-stop and parries the ball behind. Two taken.\\n\\n330\\n\\nSeptember 28, 2025· 23:39 IST\\n\\n⚪Dot BallOver 16.3India 113/4\\n\\nIndia vs Pakistan Live Score | Shaheen Afridi to Tilak Varma : Full ball, on the leg stump, Tilak tries to whip that across the line, but misses to connect and wears on the pad.\\n\\n330\\n\\nSeptember 28, 2025· 23:38 IST\\n\\n🏏1 RunOver 16.2India 113/4\\n\\nIndia vs Pakistan Live Score | Shaheen Afridi to Shivam Dube : IN THE AIR... Lands safe! Dube's heart would have surely been in his mouth for a moment there. Fuller delivery, slower one, on middle. Shivam Dube tries to flick that away, but gets a thick, leading edge. The ball pops up in the air, but falls short of the charging cover fielder. They cross.\\n\\n330\\n\\nSeptember 28, 2025· 23:36 IST\\n\\n🏏1 RunOver 16.1India 112/4\\n\\nIndia vs Pakistan Live Score | Shaheen Afridi to Tilak Varma : Full and speared on middle and leg. Tilak flicks it along the turf to deep mid-wicket for a single.\\n\\n330\\n\\nSeptember 28, 2025· 23:34 IST\\n\\n🏏1 RunOver 15.6India 111/4\\n\\nIndia vs Pakistan Live Score | Abrar Ahmed to Tilak Varma : FIFTY FOR TILAK VARMA! A steely half century from him. Came into the furnace under extreme pressure, but has held up pretty well with calm in his nerves. On a fractionally fuller length, spinning into the batter, Tilak Varma gets down on his knee and sweeps it wide of short fine leg to his right for a single. Gets to the other end and gestures a salute towards the dugout where the Indian players are up on their feet, admiring his knock.\\n\\nTilak Varma 50(41)Shivam Dube 18(13)\\n\\nAbrar Ahmed 1/29(4)\\n\\n61(1WD)11011\\n\\nCRR: 6.94 RRR: 9\\n\\n330\\n\\nSeptember 28, 2025· 23:34 IST\\n\\n🏏1 RunOver 15.5India 110/4\\n\\nIndia vs Pakistan Live Score | Abrar Ahmed to Shivam Dube : Pulls the length back, on the leg stump. Dube tucks it to deep mid-wicket for a single.\\n\\n330\\n\\nSeptember 28, 2025· 23:33 IST\\n\\n⚪Dot BallOver 15.4India 109/4\\n\\nIndia vs Pakistan Live Score | Abrar Ahmed to Shivam Dube : Short and spinning in from middle. Dube dabs it across to the leg side.\\n\\n330\\n\\nSeptember 28, 2025· 23:33 IST\\n\\n🏏1 RunOver 15.3India 109/4\\n\\nIndia vs Pakistan Live Score | Abrar Ahmed to Tilak Varma : Full and outside off, worked down to long off for a single.\\n\\n330\\n\\nSeptember 28, 2025· 23:32 IST\\n\\n🏏1 RunOver 15.2India 108/4\\n\\nIndia vs Pakistan Live Score | Abrar Ahmed to Shivam Dube : IN THE AIR... FALLS SHORT! Also, a lack of game awareness from Dube, as that could have been easily a double. Full and spinning into the batter, Shivam Dube tries to sweep it away, but ends up getting a top edge. The ball flies over the keeper's head and lands in front of Haris Rauf, who charges to his left from short fine leg. The batters complete a single, and Haris throws it wayward towards the bowler's end. Tilak is keen to get the second but Dube has his back against his partner. This forces Tilak to retreat.\\n\\n330\\n\\nSeptember 28, 2025· 23:31 IST\\n\\n📢Over 15.2India 107/4\\n\\nIndia vs Pakistan Live Score | Abrar Ahmed to Shivam Dube : WIDE! Slides it wide outside the tramline, on a length. Dube lets it be. Wide called.\\n\\n330\\n\\nSeptember 28, 2025· 23:31 IST\\n\\n6️⃣SIX!Over 15.1India 106/4\\n\\nIndia vs Pakistan Live Score | Abrar Ahmed to Shivam Dube : SIX! BRUTAL HIT! Too full from Abrar, around off. Shivam Dube brings his long levers to play, clears the front leg and sails it over deep mid-wicket for a huge six.\\n\\n330\\n\\nSeptember 28, 2025· 23:29 IST\\n\\n6️⃣SIX!Over 14.6India 100/4\\n\\nIndia vs Pakistan Live Score | Haris Rauf to Tilak Varma : SIX! All the way! 17 runs off the over. Just what over India wanted. Slower one, on a back of a length, angled into the left-hander, on middle. Tilak picks it up and sends it over the leaping deep backward square leg fielder for a six.\\n\\nTilak Varma 48(39)Shivam Dube 10(9)\\n\\nHaris Rauf 0/24(2)\\n\\n414116\\n\\nCRR: 6.67 RRR: 9.40\\n\\n330\\n\\nSeptember 28, 2025· 23:28 IST\\n\\n🏏1 RunOver 14.5India 94/4\\n\\nIndia vs Pakistan Live Score | Haris Rauf to Shivam Dube : On a back of a length, on the pads, Shivam wrists it to deep mid-wicket for a single.\\n\\n330\\n\\nSeptember 28, 2025· 23:28 IST\\n\\n🏏1 RunOver 14.4India 93/4\\n\\nIndia vs Pakistan Live Score | Haris Rauf to Tilak Varma : On a good length, on off, Varma steps out to go through the off side. Miscues it down the deck and the ball goes on the bounce towards the bowler. Rauf leaps to his left and gets a hand to it but the ball is parried behind for one.\\n\\n330\\n\\nSeptember 28, 2025· 23:27 IST\\n\\n4️⃣FOUR!Over 14.3India 92/4\\n\\nIndia vs Pakistan Live Score | Haris Rauf to Tilak Varma : FOUR! Crunched! Pitched up by Rauf, at pace, on off, Tilak transfers the weight on the front foot and drills it back past the bowler for a single.\\n\\n330\\n\\nSeptember 28, 2025· 23:26 IST\\n\\n🏏1 RunOver 14.2India 88/4\\n\\nIndia vs Pakistan Live Score | Haris Rauf to Shivam Dube : Pace off and into the wicket, on middle and leg, Dube nurdles it through square leg for a single.\\n\\n330\\n\\nSeptember 28, 2025· 23:25 IST\\n\\n4️⃣FOUR!Over 14.1India 87/4\\n\\nIndia vs Pakistan Live Score | Haris Rauf to Shivam Dube : FOUR! Smacked away! Haris Rauf lands on a good length, outside off. Shivam Dube stands tall and just powers it through extra cover for a cracking boundary.\\n\\n330\\n\\nSeptember 28, 2025· 23:22 IST\\n\\n🏏1 RunOver 13.5India 82/4\\n\\nIndia vs Pakistan Live Score | Saim Ayub to Tilak Varma : At 90.9 kph, short and on middle, Tilak bends and pulls it to deep backward square leg for one more.\\n\\n330\\n\\nSeptember 28, 2025· 23:22 IST\\n\\n⚪Dot BallOver 13.4India 81/4\\n\\nIndia vs Pakistan Live Score | Saim Ayub to Tilak Varma : Slower and fuller, on middle, Tilak knocks it back to Ayub.\\n\\n330\\n\\nSeptember 28, 2025· 23:21 IST\\n\\n🏏1 RunOver 13.3India 81/4\\n\\nIndia vs Pakistan Live Score | Saim Ayub to Shivam Dube : Serves the carrom ball, sliding into the left-hander, on a nagging length, on the off stump. Shivam whips it to deep mid-wicket for a run.\\n\\n330\\n\\nSeptember 28, 2025· 23:21 IST\\n\\n🏏1 RunOver 13.2India 80/4\\n\\nIndia vs Pakistan Live Score | Saim Ayub to Tilak Varma : Full and sliding onto the pads, Varma flicks it to deep mid-wicket for one more.\\n\\n330\\n\\nSeptember 28, 2025· 23:21 IST\\n\\n🏏1 RunOver 13.1India 79/4\\n\\nIndia vs Pakistan Live Score | Saim Ayub to Shivam Dube : This grips a bit in the surface, short and turning away, Dube drags the sweep towards deep mid-wicket for a single.\\n\\n330\\n\\nSeptember 28, 2025· 23:19 IST\\n\\n⚪Dot BallOver 12.6India 78/4\\n\\nIndia vs Pakistan Live Score | Abrar Ahmed to Tilak Varma : Excellent over from Abrar! A wicket and 2 runs off it. That takes the required run rate to 9.85, which was 8.87 at the start of the over. Short and pushed through on the pads, Tilak misses out on the flick and wears it on the front pad.\\n\\nTilak Varma 35(33)Shivam Dube 1(3)\\n\\nAbrar Ahmed 1/18(3)\\n\\n10(W)0010\\n\\nCRR: 6.00 RRR: 9.85\\n\\n330\\n\\nSeptember 28, 2025· 23:19 IST\\n\\n🏏1 RunOver 12.5India 78/4\\n\\nIndia vs Pakistan Live Score | Abrar Ahmed to Shivam Dube : Short and quick, on the pads, Shivam nudges it to deep square leg for a single.\\n\\n330\\n\\nSeptember 28, 2025· 23:19 IST\\n\\n⚪Dot BallOver 12.4India 77/4\\n\\nIndia vs Pakistan Live Score | Abrar Ahmed to Shivam Dube : Shorter and on off, Dube slaps it straight to cover.\\n\\n330\\n\\nSeptember 28, 2025· 23:17 IST\\n\\nℹ️MATCH UPDATE\\n\\nIndia vs Pakistan Live Score | Shivam Dube is in at number 6. India need 70 runs off 46 deliveries!\\n\\n330\\n\\nSeptember 28, 2025· 23:17 IST\\n\\n🔴WICKET!Over 12.2India 77/4\\n\\nIndia vs Pakistan Live Score | Abrar Ahmed to Sanju Samson : OUT! CAUGHT! Abrar Ahmed breaks through for Pakistan! This is cleverly bowled by Abrar, keeping it away from the batter's arc, on a nagging length. Hangs it up there and this is slower through the air. Samson throws his hands at the ball but the turn takes the ball further away from him. Slices it off the outer half of the bat towards backward point, where Sahibzada Farhan takes it on the edge of the ring. Sanju Samson departs for 24 off 21 and India are 77/4.\\n\\n330\\n\\nSeptember 28, 2025· 23:15 IST\\n\\n🏏1 RunOver 12.1India 77/3\\n\\nIndia vs Pakistan Live Score | Abrar Ahmed to Tilak Varma : Dropped short at 94 kph, on middle, Tilak goes on the back foot and pulls it to deep mid-wicket for a single.\\n\\n330\\n\\nSeptember 28, 2025· 23:15 IST\\n\\nℹ️MATCH UPDATE\\n\\nIndia vs Pakistan Live Score | The last 2 overs have gone for 18 runs. India need 71 runs to win from 48 deliveries. Abrar Ahmed (2-0-16-0) to continue.\\n\\n330\\n\\nSeptember 28, 2025· 23:14 IST\\n\\n⚪Dot BallOver 11.6India 76/3\\n\\nIndia vs Pakistan Live Score | Saim Ayub to Sanju Samson : Nicely floated up, full and on off, Sanju leans into the drive and works it to cover.\\n\\nSanju Samson 24(20)Tilak Varma 34(31)\\n\\nSaim Ayub 0/11(2)\\n\\n100060\\n\\nCRR: 6.33 RRR: 8.87\\n\\n330\\n\\nSeptember 28, 2025· 23:13 IST\\n\\n6️⃣SIX!Over 11.5India 76/3\\n\\nIndia vs Pakistan Live Score | Saim Ayub to Sanju Samson : SIX! A poor delivery from Saim and that allows Sanju to release the pressure! A half-tracker from Ayub, outside off, Samson presses on the back foot and slams it over wide long on for a biggie.\\n\\n330\\n\\nSeptember 28, 2025· 23:12 IST\\n\\n⚪Dot BallOver 11.4India 70/3\\n\\nIndia vs Pakistan Live Score | Saim Ayub to Sanju Samson : Three dots in a row! Shorter and on middle, Sanju pats it back to Ayub.\\n\\n330\\n\\nSeptember 28, 2025· 23:12 IST\\n\\n⚪Dot BallOver 11.3India 70/3\\n\\nIndia vs Pakistan Live Score | Saim Ayub to Sanju Samson : Fine stop! Ayub fires in a low full toss, on off, Sanju cracks the drive towards extra cover where Salman Agha flings himself to his left and cuts it off. Gets rid of the ball quickly and Tilak, who had set off for the single manages to retreat.\\n\\n330\\n\\nSeptember 28, 2025· 23:11 IST\\n\\n⚪Dot BallOver 11.2India 70/3\\n\\nIndia vs Pakistan Live Score | Saim Ayub to Sanju Samson : Saim gives the ball air and Sanju is tempted into the big shot. Full and drifting onto the pads, Samson gets down for the heave but misses and wears it on the front pad.\\n\\n330\\n\\nSeptember 28, 2025· 23:11 IST\\n\\n🏏1 RunOver 11.1India 70/3\\n\\nIndia vs Pakistan Live Score | Saim Ayub to Tilak Varma : Short and a bit of an away turn, on off, Varma swivels and pulls it to deep mid-wicket for a single. This brings up the 50-run partnership between Samson and Tilak!\\n\\n330\\n\\nSeptember 28, 2025· 23:10 IST\\n\\n🏏1 RunOver 10.6India 69/3\\n\\nIndia vs Pakistan Live Score | Abrar Ahmed to Tilak Varma : Short and a bit too straight, turning into the pads, Tilak turns it away to deep backward square leg for a single. A good over for the Men in Blue. 11 runs off it. India need 78 runs in 54 balls.\\n\\nTilak Varma 33(30)Sanju Samson 18(15)\\n\\nAbrar Ahmed 0/16(2)\\n\\n116111\\n\\nCRR: 6.27 RRR: 8.66\\n\\n330\\n\\nSeptember 28, 2025· 23:09 IST\\n\\n🏏1 RunOver 10.5India 68/3\\n\\nIndia vs Pakistan Live Score | Abrar Ahmed to Sanju Samson : At 88.4 kph, keeps it short, around off, eased past cover for a single by Sanju.\\n\\n330\\n\\nSeptember 28, 2025· 23:08 IST\\n\\n🏏1 RunOver 10.4India 67/3\\n\\nIndia vs Pakistan Live Score | Abrar Ahmed to Tilak Varma : Shorter and on middle, Tilak taps it off the back foot to long on for one.\\n\\n330\\n\\nSeptember 28, 2025· 23:08 IST\\n\\n6️⃣SIX!Over 10.3India 66/3\\n\\nIndia vs Pakistan Live Score | Abrar Ahmed to Tilak Varma : SIX! This will ease a bit of pressure for India as the last boundary came in the 8th over! Floated up from around the wicket, full and outside off. Tilak gets down on a knee and slog sweeps it flat and to the left of long on for a six.\\n\\n330\\n\\nSeptember 28, 2025· 23:07 IST\\n\\n🏏1 RunOver 10.2India 60/3\\n\\nIndia vs Pakistan Live Score | Abrar Ahmed to Sanju Samson : Pushed through, on middle, Sanju pushes this full ball to long off for a run.\\n\\n330\\n\\nSeptember 28, 2025· 23:07 IST\\n\\n🏏1 RunOver 10.1India 59/3\\n\\nIndia vs Pakistan Live Score | Abrar Ahmed to Tilak Varma : Dropped short, on off, cut away to deep point for a single.\\n\\n330\\n\\nSeptember 28, 2025· 23:05 IST\\n\\nℹ️MATCH UPDATE\\n\\nIndia vs Pakistan Live Score | DRINKS BREAK! A bit of calmness has ensued from India’s perspective after the chaos of being reduced to 20/3 inside the first four overs. Tilak Varma and Sanju Samson are rotating the strike well, nudging singles to keep the scoreboard ticking. India have strengthened their batting for this game, so there is depth to follow, but they need to keep up with the required run rate. Pakistan, though, will be disappointed with the dropped chance of Samson, but overall have given a good account of themselves with the ball so far. The surface has looked two-paced, with pace-off proving effective, and Salman Agha will look to tighten the screws with the spin options at his disposal.\\n\\n330\\n\\nSeptember 28, 2025· 23:03 IST\\n\\n⚪Dot BallOver 9.6India 58/3\\n\\nIndia vs Pakistan Live Score | Saim Ayub to Sanju Samson : Length ball, on off, Samson knocks it off the back foot to Abrar. Just 4 singles off this over. At halfway, India are 58/3.\\n\\nSanju Samson 16(13)Tilak Varma 24(26)\\n\\nSaim Ayub 0/4(1)\\n\\n111010\\n\\nCRR: 5.80 RRR: 8.90\\n\\n330\\n\\nSeptember 28, 2025· 23:02 IST\\n\\n🏏1 RunOver 9.5India 58/3\\n\\nIndia vs Pakistan Live Score | Saim Ayub to Tilak Varma : Shortens the length, outside off. Varma rocks back and steers it wide of extra cover for a single.\\n\\n330\\n\\nSeptember 28, 2025· 23:02 IST\\n\\n⚪Dot BallOver 9.4India 57/3\\n\\nIndia vs Pakistan Live Score | Saim Ayub to Tilak Varma : Tossed up, full and on middle. Varma blocks it out to short cover.\\n\\n330\\n\\nSeptember 28, 2025· 23:01 IST\\n\\n🏏1 RunOver 9.3India 57/3\\n\\nIndia vs Pakistan Live Score | Saim Ayub to Sanju Samson : Sliding down the leg stump, on a length. Sanju Samson rocks back and steers it to deep square leg for a single.\\n\\n330\\n\\nSeptember 28, 2025· 23:01 IST\\n\\n🏏1 RunOver 9.2India 56/3\\n\\nIndia vs Pakistan Live Score | Saim Ayub to Tilak Varma : Very slow through the air, full and outside off. Tilak gets on the front foot and taps it away to backward point for a single.\\n\\n330\\n\\nSeptember 28, 2025· 23:00 IST\\n\\n🏏1 RunOver 9.1India 55/3\\n\\nIndia vs Pakistan Live Score | Saim Ayub to Sanju Samson : At just 88.3 kph, length ball on middle and leg. Sanju Samson rocks back and punches it with soft hands to the left of the diving mid-wicket fielder for a single.\\n\\n330\\n\\nSeptember 28, 2025· 22:59 IST\\n\\n⚪Dot BallOver 8.6India 54/3\\n\\nIndia vs Pakistan Live Score | Abrar Ahmed to Tilak Varma : Tossed up, full and on the leg stump line, Tilak pushes it back to the bowler.\\n\\nTilak Varma 22(23)Sanju Samson 14(10)\\n\\nAbrar Ahmed 0/5(1)\\n\\n111110\\n\\nCRR: 6.00 RRR: 8.45\\n\\n330\\n\\nSeptember 28, 2025· 22:59 IST\\n\\n🏏1 RunOver 8.5India 54/3\\n\\nIndia vs Pakistan Live Score | Abrar Ahmed to Sanju Samson : A wrong'un, spinning in from outside off. Punched down to long off for a single.\\n\\n330\\n\\nSeptember 28, 2025· 22:58 IST\\n\\n🏏1 RunOver 8.4India 53/3\\n\\nIndia vs Pakistan Live Score | Abrar Ahmed to Tilak Varma : Length, on the leg stump, Tilak tucks it across to deep square leg for a single.\\n\\n330\\n\\nSeptember 28, 2025· 22:58 IST\\n\\n🏏1 RunOver 8.3India 52/3\\n\\nIndia vs Pakistan Live Score | Abrar Ahmed to Sanju Samson : IN THE AIR AND DROPPED! Hussain Talat is the guilty party! That should have been taken by all standards! Short in length, on the leg stump line, sticking up a bit on the deck as well. Sanju Samson weighs back and mistimes the pull shot towards deep mid-wicket. The ball dips in front of Hussain Talat, who charges and dives forward to grab it with both hands, but goes for the catch with hard hands. The ball hits his palm and pops out before dropping on the ground. A single taken.\\n\\n330\\n\\nSeptember 28, 2025· 22:57 IST\\n\\n🏏1 RunOver 8.2India 51/3\\n\\nIndia vs Pakistan Live Score | Abrar Ahmed to Tilak Varma : Sharp spin into the batter, length on middle. Tilak Varma pushes off the back foot to long on for a single.\\n\\n330\\n\\nSeptember 28, 2025· 22:57 IST\\n\\n🏏1 RunOver 8.1India 50/3\\n\\nIndia vs Pakistan Live Score | Abrar Ahmed to Sanju Samson : Abrar Ahmed is into the attack now. Bowls on a length, at 89.3 kph, on middle and leg. Samson rocks back and punches to the right of the bowler for a single. 50 UP FOR INDIA IN 8.1 OVERS!\\n\\n330\\n\\nSeptember 28, 2025· 22:56 IST\\n\\n⚪Dot BallOver 7.6India 49/3\\n\\nIndia vs Pakistan Live Score | Haris Rauf to Tilak Varma : Angled at the pads, on a length. Tilak Varma flicks it to mid-wicket. 7 runs off the over. 13 runs from the last two overs for India. They need 98 runs from 72 balls.\\n\\nTilak Varma 20(20)Sanju Samson 11(7)\\n\\nHaris Rauf 0/7(1)\\n\\n114100\\n\\nCRR: 6.13 RRR: 8.16\\n\\n330\\n\\nSeptember 28, 2025· 22:55 IST\\n\\n⚪Dot BallOver 7.5India 49/3\\n\\nIndia vs Pakistan Live Score | Haris Rauf to Tilak Varma : Slams the deck hard from around the stumps, and targets the bodyline. Tilak rocks back and tucks it to short mid-wicket.\\n\\n330\\n\\nSeptember 28, 2025· 22:54 IST\\n\\n🏏1 RunOver 7.4India 49/3\\n\\nIndia vs Pakistan Live Score | Haris Rauf to Sanju Samson : Short of a good length, outside off. Slow at 121.3 kph. Sanju Samson waits back and guides it behind to deep third for a single.\\n\\n330\\n\\nSeptember 28, 2025· 22:54 IST\\n\\n4️⃣FOUR!Over 7.3India 48/3\\n\\nIndia vs Pakistan Live Score | Haris Rauf to Sanju Samson : FOUR! Quick hands! Back of a length, just around off. Sanju Samson transfers his weight on the back foot and pulls it over the man at mid-wicket for a cracking boundary! India need 99 from 75 balls now.\\n\\n330\\n\\nSeptember 28, 2025· 22:53 IST\\n\\n🏏1 RunOver 7.2India 44/3\\n\\nIndia vs Pakistan Live Score | Haris Rauf to Tilak Varma : Around the stumps. Length-delivery, on off, angling in. Tilak Varma plays from the crease and knocks it on the bounce to the bowler. Haris Rauf extends his hands over his head to stop the ball, but deflects it behind. Mid off charges in to his left and restricts the batters down to just a single.\\n\\n330\\n\\nSeptember 28, 2025· 22:52 IST\\n\\n🏏1 RunOver 7.1India 43/3\\n\\nIndia vs Pakistan Live Score | Haris Rauf to Sanju Samson : Haris Rauf is into the attack now. Starts with a length-delivery, on top of off. Sanju Samson climbs on the bounce and punches to deep extra cover for a single.\\n\\n330\\n\\nSeptember 28, 2025· 22:51 IST\\n\\n🏏1 RunOver 6.6India 42/3\\n\\nIndia vs Pakistan Live Score | Mohammad Nawaz to Sanju Samson : Nicely tossed up, full and on off. Sanju Samson lunges forward and drives it past the short cover fielder's dive to his right. The ball rolls down to long off. They cross. Just 6 runs off Nawaz's first.\\n\\nSanju Samson 5(4)Tilak Varma 19(17)\\n\\nMohammad Nawaz 0/6(1)\\n\\n040011\\n\\nCRR: 6.00 RRR: 8.07\\n\\n330\\n\\nSeptember 28, 2025· 22:50 IST\\n\\n🏏1 RunOver 5.6India 36/3\\n\\nIndia vs Pakistan Live Score | Faheem Ashraf to Tilak Varma : Slanting across the batter, on a length, Tilak Varma waits for it and taps it with soft hands, beside the pitch on the off side and calls Samson through for a quick single. India are 36/3 at the end of the Powerplay. They need 111 more to win from 84 balls.\\n\\nTilak Varma 14(12)Sanju Samson 4(3)\\n\\nFaheem Ashraf 2/22(3)\\n\\n004601\\n\\nCRR: 6.00 RRR: 7.92\\n\\n330\\n\\nSeptember 28, 2025· 22:50 IST\\n\\n🏏1 RunOver 6.5India 41/3\\n\\nIndia vs Pakistan Live Score | Mohammad Nawaz to Tilak Varma : Short and outside off, spinning in. Tilak Varma goes deep in the crease and pulls it to deep square leg for a single.\\n\\n330\\n\\nSeptember 28, 2025· 22:50 IST\\n\\n⚪Dot BallOver 6.4India 40/3\\n\\nIndia vs Pakistan Live Score | Mohammad Nawaz to Tilak Varma : Full and outside off, Varma leans on and pushes it to cover.\\n\\n330\\n\\nSeptember 28, 2025· 22:49 IST\\n\\n⚪Dot BallOver 6.3India 40/3\\n\\nIndia vs Pakistan Live Score | Mohammad Nawaz to Tilak Varma : On a length, sharply gripping off the pitch. Varma taps it across to the leg side.\\n\\n330\\n\\nSeptember 28, 2025· 22:49 IST\\n\\n4️⃣FOUR!Over 6.2India 40/3\\n\\nIndia vs Pakistan Live Score | Mohammad Nawaz to Tilak Varma : FOUR! Swept away! Pushed through, full and turning in around off. Tilak Varma reads the length well and sweeps it powerfully to deep square leg and collects another boundary.\\n\\n330\\n\\nSeptember 28, 2025· 22:48 IST\\n\\n⚪Dot BallOver 6.1India 36/3\\n\\nIndia vs Pakistan Live Score | Mohammad Nawaz to Tilak Varma : Over the stumps. Length ball, spinning in from off. Tilak Varma hangs deep in the crease and nudges it to mid-wicket.\\n\\n330\\n\\nSeptember 28, 2025· 22:48 IST\\n\\nℹ️MATCH UPDATE\\n\\nIndia vs Pakistan Live Score | Time for spin as Mohammad Nawaz comes on.\\n\\n330\\n\\nSeptember 28, 2025· 22:46 IST\\n\\n⚪Dot BallOver 5.5India 35/3\\n\\nIndia vs Pakistan Live Score | Faheem Ashraf to Tilak Varma : A cutter, on a good length, outside off. Tilak Varma shapes to cut it square on the off side, but the ball stays a tad low and passes below the inside edge.\\n\\n330\\n\\nSeptember 28, 2025· 22:46 IST\\n\\n6️⃣SIX!Over 5.4India 35/3\\n\\nIndia vs Pakistan Live Score | Faheem Ashraf to Tilak Varma : SIX! PUNISHED! Lovely pick-up shot from Varma! Faheem errs in line and length. A slow length ball, outside leg. Tilak Varma whips it cleanly over deep fine leg for a cracking six.\\n\\n330\\n\\nSeptember 28, 2025· 22:45 IST\\n\\n4️⃣FOUR!Over 5.3India 29/3\\n\\nIndia vs Pakistan Live Score | Faheem Ashraf to Tilak Varma : FOUR! Through the gap and it races away! Hard length, angling outside off. Tilak Varma waits for the slower delivery to arrive and punches it between the cover and mid off gap for a boundary.\\n\\n330\\n\\nSeptember 28, 2025· 22:44 IST\\n\\n⚪Dot BallOver 5.2India 25/3\\n\\nIndia vs Pakistan Live Score | Faheem Ashraf to Tilak Varma : Fractionally full and wicket-to-wicket, Tilak Varma punches it off the back foot to the bowler.\\n\\n330\\n\\nSeptember 28, 2025· 22:43 IST\\n\\n⚪Dot BallOver 5.1India 25/3\\n\\nIndia vs Pakistan Live Score | Faheem Ashraf to Tilak Varma : Back of a length, outside off. Tilak hangs back and punches it to short cover.\\n\\n330\\n\\nSeptember 28, 2025· 22:43 IST\\n\\n4️⃣FOUR!Over 4.6India 25/3\\n\\nIndia vs Pakistan Live Score | Shaheen Afridi to Sanju Samson : FOUR! Lovely shot! A half-volley at 139.3 kph, around off, Sanju leans into the drive and caresses it through covers for a boundary.\\n\\nSanju Samson 4(3)Tilak Varma 3(6)\\n\\nShaheen Afridi 1/14(3)\\n\\n001004\\n\\nCRR: 5.00 RRR: 8.13\\n\\n330\\n\\nSeptember 28, 2025· 22:41 IST\\n\\n⚪Dot BallOver 4.5India 21/3\\n\\nIndia vs Pakistan Live Score | Shaheen Afridi to Sanju Samson : Pace off from Shaheen, fuller in length, on off. Samson eases the drive to cover.\\n\\n330\\n\\nSeptember 28, 2025· 22:41 IST\\n\\n⚪Dot BallOver 4.4India 21/3\\n\\nIndia vs Pakistan Live Score | Shaheen Afridi to Sanju Samson : Nearly chopped it back onto the stumps! Steaming in from around the wicket, on a hard length, on off. Sanju waits back to defend. Gets an inside edge and the ball drops near his feet.\\n\\n330\\n\\nSeptember 28, 2025· 22:40 IST\\n\\n🏏1 RunOver 4.3India 21/3\\n\\nIndia vs Pakistan Live Score | Shaheen Afridi to Tilak Varma : On a back of a length, at the pads, Tilak works it to deep backward square leg and takes a single.\\n\\nAdvertisement\\n\\nRemove Ad\")]"
            ]
          },
          "metadata": {},
          "execution_count": 9
        }
      ]
    },
    {
      "cell_type": "code",
      "source": [
        "len(docs)  # as we have passed only one link docs len is one...."
      ],
      "metadata": {
        "colab": {
          "base_uri": "https://localhost:8080/"
        },
        "id": "0R1Qilj69uxL",
        "outputId": "c89dd6f5-5d34-4cc7-aac3-101d4e58b2d4"
      },
      "execution_count": 10,
      "outputs": [
        {
          "output_type": "execute_result",
          "data": {
            "text/plain": [
              "1"
            ]
          },
          "metadata": {},
          "execution_count": 10
        }
      ]
    },
    {
      "cell_type": "code",
      "source": [
        "# using recursivetextsplitter for creating the chunks.....\n",
        "text_splitter= RecursiveCharacterTextSplitter(chunk_size=5000,\n",
        "                                              chunk_overlap=20)"
      ],
      "metadata": {
        "id": "mw5M7P9C91n5"
      },
      "execution_count": 11,
      "outputs": []
    },
    {
      "cell_type": "code",
      "source": [
        "# lets create the chunks\n",
        "chunks=text_splitter.split_documents(docs)"
      ],
      "metadata": {
        "id": "_VyNA2D8oJ7D"
      },
      "execution_count": 12,
      "outputs": []
    },
    {
      "cell_type": "code",
      "source": [
        "len(chunks) # number of chunks it has made....."
      ],
      "metadata": {
        "colab": {
          "base_uri": "https://localhost:8080/"
        },
        "id": "jkFQgxSG-JPz",
        "outputId": "7d10be1b-8f61-4410-cd51-c030402f8f3b"
      },
      "execution_count": 13,
      "outputs": [
        {
          "output_type": "execute_result",
          "data": {
            "text/plain": [
              "7"
            ]
          },
          "metadata": {},
          "execution_count": 13
        }
      ]
    },
    {
      "cell_type": "code",
      "source": [
        "chunks[3] # each chunk  have meta data and page content"
      ],
      "metadata": {
        "colab": {
          "base_uri": "https://localhost:8080/"
        },
        "id": "LXIv_nY2-Pu_",
        "outputId": "9e785f2e-503d-403e-9382-f296326602d6"
      },
      "execution_count": 14,
      "outputs": [
        {
          "output_type": "execute_result",
          "data": {
            "text/plain": [
              "Document(metadata={'source': 'https://www.moneycontrol.com/sports/cricket/ind-vs-pak-live-score-today-india-vs-pakistan-asia-cup-2025-final-live-cricket-scorecard-dubai-liveblog-13586345.html'}, page_content=\"India vs Pakistan Live Score | Haris Rauf to Shivam Dube : FOUR! Smacked away! Haris Rauf lands on a good length, outside off. Shivam Dube stands tall and just powers it through extra cover for a cracking boundary.\\n\\n330\\n\\nSeptember 28, 2025· 23:22 IST\\n\\n🏏1 RunOver 13.5India 82/4\\n\\nIndia vs Pakistan Live Score | Saim Ayub to Tilak Varma : At 90.9 kph, short and on middle, Tilak bends and pulls it to deep backward square leg for one more.\\n\\n330\\n\\nSeptember 28, 2025· 23:22 IST\\n\\n⚪Dot BallOver 13.4India 81/4\\n\\nIndia vs Pakistan Live Score | Saim Ayub to Tilak Varma : Slower and fuller, on middle, Tilak knocks it back to Ayub.\\n\\n330\\n\\nSeptember 28, 2025· 23:21 IST\\n\\n🏏1 RunOver 13.3India 81/4\\n\\nIndia vs Pakistan Live Score | Saim Ayub to Shivam Dube : Serves the carrom ball, sliding into the left-hander, on a nagging length, on the off stump. Shivam whips it to deep mid-wicket for a run.\\n\\n330\\n\\nSeptember 28, 2025· 23:21 IST\\n\\n🏏1 RunOver 13.2India 80/4\\n\\nIndia vs Pakistan Live Score | Saim Ayub to Tilak Varma : Full and sliding onto the pads, Varma flicks it to deep mid-wicket for one more.\\n\\n330\\n\\nSeptember 28, 2025· 23:21 IST\\n\\n🏏1 RunOver 13.1India 79/4\\n\\nIndia vs Pakistan Live Score | Saim Ayub to Shivam Dube : This grips a bit in the surface, short and turning away, Dube drags the sweep towards deep mid-wicket for a single.\\n\\n330\\n\\nSeptember 28, 2025· 23:19 IST\\n\\n⚪Dot BallOver 12.6India 78/4\\n\\nIndia vs Pakistan Live Score | Abrar Ahmed to Tilak Varma : Excellent over from Abrar! A wicket and 2 runs off it. That takes the required run rate to 9.85, which was 8.87 at the start of the over. Short and pushed through on the pads, Tilak misses out on the flick and wears it on the front pad.\\n\\nTilak Varma 35(33)Shivam Dube 1(3)\\n\\nAbrar Ahmed 1/18(3)\\n\\n10(W)0010\\n\\nCRR: 6.00 RRR: 9.85\\n\\n330\\n\\nSeptember 28, 2025· 23:19 IST\\n\\n🏏1 RunOver 12.5India 78/4\\n\\nIndia vs Pakistan Live Score | Abrar Ahmed to Shivam Dube : Short and quick, on the pads, Shivam nudges it to deep square leg for a single.\\n\\n330\\n\\nSeptember 28, 2025· 23:19 IST\\n\\n⚪Dot BallOver 12.4India 77/4\\n\\nIndia vs Pakistan Live Score | Abrar Ahmed to Shivam Dube : Shorter and on off, Dube slaps it straight to cover.\\n\\n330\\n\\nSeptember 28, 2025· 23:17 IST\\n\\nℹ️MATCH UPDATE\\n\\nIndia vs Pakistan Live Score | Shivam Dube is in at number 6. India need 70 runs off 46 deliveries!\\n\\n330\\n\\nSeptember 28, 2025· 23:17 IST\\n\\n🔴WICKET!Over 12.2India 77/4\\n\\nIndia vs Pakistan Live Score | Abrar Ahmed to Sanju Samson : OUT! CAUGHT! Abrar Ahmed breaks through for Pakistan! This is cleverly bowled by Abrar, keeping it away from the batter's arc, on a nagging length. Hangs it up there and this is slower through the air. Samson throws his hands at the ball but the turn takes the ball further away from him. Slices it off the outer half of the bat towards backward point, where Sahibzada Farhan takes it on the edge of the ring. Sanju Samson departs for 24 off 21 and India are 77/4.\\n\\n330\\n\\nSeptember 28, 2025· 23:15 IST\\n\\n🏏1 RunOver 12.1India 77/3\\n\\nIndia vs Pakistan Live Score | Abrar Ahmed to Tilak Varma : Dropped short at 94 kph, on middle, Tilak goes on the back foot and pulls it to deep mid-wicket for a single.\\n\\n330\\n\\nSeptember 28, 2025· 23:15 IST\\n\\nℹ️MATCH UPDATE\\n\\nIndia vs Pakistan Live Score | The last 2 overs have gone for 18 runs. India need 71 runs to win from 48 deliveries. Abrar Ahmed (2-0-16-0) to continue.\\n\\n330\\n\\nSeptember 28, 2025· 23:14 IST\\n\\n⚪Dot BallOver 11.6India 76/3\\n\\nIndia vs Pakistan Live Score | Saim Ayub to Sanju Samson : Nicely floated up, full and on off, Sanju leans into the drive and works it to cover.\\n\\nSanju Samson 24(20)Tilak Varma 34(31)\\n\\nSaim Ayub 0/11(2)\\n\\n100060\\n\\nCRR: 6.33 RRR: 8.87\\n\\n330\\n\\nSeptember 28, 2025· 23:13 IST\\n\\n6️⃣SIX!Over 11.5India 76/3\\n\\nIndia vs Pakistan Live Score | Saim Ayub to Sanju Samson : SIX! A poor delivery from Saim and that allows Sanju to release the pressure! A half-tracker from Ayub, outside off, Samson presses on the back foot and slams it over wide long on for a biggie.\\n\\n330\\n\\nSeptember 28, 2025· 23:12 IST\\n\\n⚪Dot BallOver 11.4India 70/3\\n\\nIndia vs Pakistan Live Score | Saim Ayub to Sanju Samson : Three dots in a row! Shorter and on middle, Sanju pats it back to Ayub.\\n\\n330\\n\\nSeptember 28, 2025· 23:12 IST\\n\\n⚪Dot BallOver 11.3India 70/3\\n\\nIndia vs Pakistan Live Score | Saim Ayub to Sanju Samson : Fine stop! Ayub fires in a low full toss, on off, Sanju cracks the drive towards extra cover where Salman Agha flings himself to his left and cuts it off. Gets rid of the ball quickly and Tilak, who had set off for the single manages to retreat.\\n\\n330\\n\\nSeptember 28, 2025· 23:11 IST\\n\\n⚪Dot BallOver 11.2India 70/3\\n\\nIndia vs Pakistan Live Score | Saim Ayub to Sanju Samson : Saim gives the ball air and Sanju is tempted into the big shot. Full and drifting onto the pads, Samson gets down for the heave but misses and wears it on the front pad.\\n\\n330\\n\\nSeptember 28, 2025· 23:11 IST\\n\\n🏏1 RunOver 11.1India 70/3\")"
            ]
          },
          "metadata": {},
          "execution_count": 14
        }
      ]
    },
    {
      "cell_type": "markdown",
      "source": [
        "## Note: - Each chunk must fit within the model’s token limit, and the combined chunk summaries in the final reduce step must also stay within that limit."
      ],
      "metadata": {
        "id": "jR4phiD82PRt"
      }
    },
    {
      "cell_type": "code",
      "source": [
        "chunks_prompt = \"\"\"\n",
        "    You are given a chunk of text scraped from a website.\n",
        "\n",
        "    Task:\n",
        "    - Focus only on the NEWS ARTICLE content (headlines, article body, analysis).\n",
        "    - Ignore navigation menus, login/logout info, calculators, tools, alerts, or any unrelated website UI.\n",
        "    - Summarize only the important business/news details in 2–3 concise sentences.\n",
        "\n",
        "    input_documents:\n",
        "    {text}\n",
        "\n",
        "    Summary:\n",
        "    \"\"\"\n",
        "# prompt template for chunks....\n",
        "map_prompt_template = PromptTemplate(input_variables=['text'], template=chunks_prompt,\n",
        ")\n",
        "\n",
        "\n",
        "# final_prompt_template:- first llm will summarize all the chunks\n",
        "# after that it will merge each chunk's summary and merge them and at the end\n",
        "# from this final summary will be generated.....\n",
        "final_prompt = \"\"\"\n",
        "    You are given multiple summaries of text chunks from a news article.\n",
        "\n",
        "    Instructions:\n",
        "    - First, read all the chunk summaries.\n",
        "    - Identify the 3 most important insights from the news article.\n",
        "    - Write a final summary of exactly three sentences (no more, no less).\n",
        "    - Focus only on the news content. Ignore menus, calculators, login/logout info, or other website sections.\n",
        "\n",
        "    input_documents:\n",
        "    {text}\n",
        "\n",
        "    {format_instruction}\n",
        "\n",
        "\n",
        "    \"\"\"\n",
        "final_prompt_template = PromptTemplate(input_variables=['text'], template=final_prompt,\n",
        "partial_variables={\"format_instruction\":parser.get_format_instructions()})\n",
        "\n",
        "\n",
        "# Load and run map-reduce summarization chain\n",
        "summary_chain = load_summarize_chain(\n",
        "    llm=model,\n",
        "    chain_type=\"map_reduce\",\n",
        "    map_prompt=map_prompt_template,\n",
        "    combine_prompt=final_prompt_template,\n",
        "    verbose=False\n",
        ")\n"
      ],
      "metadata": {
        "id": "r8vvLl73UXdx"
      },
      "execution_count": 35,
      "outputs": []
    },
    {
      "cell_type": "code",
      "source": [
        "results=summary_chain.invoke({\"input_documents\":chunks}) # Pass input documents as expected by map_reduce chain\n",
        "output_finally=parser.parse(results['output_text'])"
      ],
      "metadata": {
        "id": "BizRMr4bnlut"
      },
      "execution_count": 36,
      "outputs": []
    },
    {
      "cell_type": "code",
      "source": [
        "print(output_finally)"
      ],
      "metadata": {
        "colab": {
          "base_uri": "https://localhost:8080/"
        },
        "id": "aSdHmoLSzy5B",
        "outputId": "ccc0b692-3440-4cd9-c9d7-663e2e03878e"
      },
      "execution_count": 38,
      "outputs": [
        {
          "output_type": "stream",
          "name": "stdout",
          "text": [
            "{'summary 1': 'India won the Asia Cup 2025 final by 5 wickets, defeating Pakistan in a thrilling match, with Tilak Varma scoring 60 runs and Rinku Singh finishing off the match in style.', 'summary 2': \"India's batting lineup struggled, but Tilak Varma and Sanju Samson played crucial roles, scoring 34 and 24 runs respectively, to keep India in the game against Pakistan.\", 'summary 3': \"India overcame a tough target of 146 runs set by Pakistan, with Tilak Varma scoring 60 runs and Rinku Singh finishing off the match in style, securing India's ninth Asia Cup title.\"}\n"
          ]
        }
      ]
    },
    {
      "cell_type": "code",
      "source": [
        "output_finally"
      ],
      "metadata": {
        "colab": {
          "base_uri": "https://localhost:8080/"
        },
        "id": "NT9_dK_B5C2y",
        "outputId": "ae827b5f-6d7f-4a96-8daa-5ce8e1922e3e"
      },
      "execution_count": 49,
      "outputs": [
        {
          "output_type": "execute_result",
          "data": {
            "text/plain": [
              "{'summary 1': 'India won the Asia Cup 2025 final by 5 wickets, defeating Pakistan in a thrilling match, with Tilak Varma scoring 60 runs and Rinku Singh finishing off the match in style.',\n",
              " 'summary 2': \"India's batting lineup struggled, but Tilak Varma and Sanju Samson played crucial roles, scoring 34 and 24 runs respectively, to keep India in the game against Pakistan.\",\n",
              " 'summary 3': \"India overcame a tough target of 146 runs set by Pakistan, with Tilak Varma scoring 60 runs and Rinku Singh finishing off the match in style, securing India's ninth Asia Cup title.\"}"
            ]
          },
          "metadata": {},
          "execution_count": 49
        }
      ]
    },
    {
      "cell_type": "code",
      "source": [
        "print(results['output_text'])"
      ],
      "metadata": {
        "colab": {
          "base_uri": "https://localhost:8080/"
        },
        "id": "-KDIXSoqdlgN",
        "outputId": "2eea102a-85c9-4302-a533-a2ef1d17a912"
      },
      "execution_count": 37,
      "outputs": [
        {
          "output_type": "stream",
          "name": "stdout",
          "text": [
            "```json\n",
            "{\n",
            "    \"summary 1\": \"India won the Asia Cup 2025 final by 5 wickets, defeating Pakistan in a thrilling match, with Tilak Varma scoring 60 runs and Rinku Singh finishing off the match in style.\",\n",
            "    \"summary 2\": \"India's batting lineup struggled, but Tilak Varma and Sanju Samson played crucial roles, scoring 34 and 24 runs respectively, to keep India in the game against Pakistan.\",\n",
            "    \"summary 3\": \"India overcame a tough target of 146 runs set by Pakistan, with Tilak Varma scoring 60 runs and Rinku Singh finishing off the match in style, securing India's ninth Asia Cup title.\"\n",
            "}\n",
            "```\n"
          ]
        }
      ]
    },
    {
      "cell_type": "markdown",
      "source": [
        "#### lets build a chain and remove unncessary data...."
      ],
      "metadata": {
        "id": "DkCRmIFedql6"
      }
    },
    {
      "cell_type": "code",
      "source": [
        "from langchain.schema.runnable import RunnableLambda\n"
      ],
      "metadata": {
        "id": "wv-jkZsGnbaq"
      },
      "execution_count": 39,
      "outputs": []
    },
    {
      "cell_type": "code",
      "source": [
        "# main chain for final output\n",
        "main_chain= summary_chain | RunnableLambda (lambda x: x['output_text']) | parser"
      ],
      "metadata": {
        "id": "SUvecthPlgKl"
      },
      "execution_count": 42,
      "outputs": []
    },
    {
      "cell_type": "code",
      "source": [
        "final_output=main_chain.invoke({\"input_documents\":chunks})"
      ],
      "metadata": {
        "id": "HCZx22wymQ8G"
      },
      "execution_count": 44,
      "outputs": []
    },
    {
      "cell_type": "code",
      "source": [
        "## The entire document has been summarized into three sentences."
      ],
      "metadata": {
        "id": "YzId5S79dvzW"
      },
      "execution_count": 48,
      "outputs": []
    },
    {
      "cell_type": "code",
      "source": [
        "final_output"
      ],
      "metadata": {
        "colab": {
          "base_uri": "https://localhost:8080/"
        },
        "id": "sHif85ejegnl",
        "outputId": "365af7b7-d92f-4375-9bff-fb4f525a96a1"
      },
      "execution_count": 46,
      "outputs": [
        {
          "output_type": "execute_result",
          "data": {
            "text/plain": [
              "{'summary 1': 'India won the Asia Cup 2025 final against Pakistan by 5 wickets in a nail-biting thriller, with Tilak Varma scoring 60 off 50 balls and Rinku Singh hitting the winning four.',\n",
              " 'summary 2': 'India required 17 runs from the last 2 overs to win the match, but eventually chased down the target of 146 runs to win the match against Pakistan.',\n",
              " 'summary 3': \"Tilak Varma's half-century (50 off 41 balls) and Shivam Dube's decent score helped India reach a total of 113/4 in the 16th over, setting up a thrilling win against Pakistan.\"}"
            ]
          },
          "metadata": {},
          "execution_count": 46
        }
      ]
    },
    {
      "cell_type": "code",
      "source": [
        "# for generating the three sentences.....\n",
        "l=[]\n",
        "for key , items in final_output.items():\n",
        "  l.append(items)\n",
        "# print(l)\n",
        "for i in l:\n",
        "  print(i)"
      ],
      "metadata": {
        "colab": {
          "base_uri": "https://localhost:8080/"
        },
        "id": "DCvMt8q_XmZS",
        "outputId": "f39f9562-db11-46a0-f830-9bb64b39d04d"
      },
      "execution_count": 47,
      "outputs": [
        {
          "output_type": "stream",
          "name": "stdout",
          "text": [
            "India won the Asia Cup 2025 final against Pakistan by 5 wickets in a nail-biting thriller, with Tilak Varma scoring 60 off 50 balls and Rinku Singh hitting the winning four.\n",
            "India required 17 runs from the last 2 overs to win the match, but eventually chased down the target of 146 runs to win the match against Pakistan.\n",
            "Tilak Varma's half-century (50 off 41 balls) and Shivam Dube's decent score helped India reach a total of 113/4 in the 16th over, setting up a thrilling win against Pakistan.\n"
          ]
        }
      ]
    },
    {
      "cell_type": "code",
      "source": [],
      "metadata": {
        "id": "XLgEV9YTK86x"
      },
      "execution_count": null,
      "outputs": []
    }
  ]
}
